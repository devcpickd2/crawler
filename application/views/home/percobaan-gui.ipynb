{
 "cells": [
  {
   "cell_type": "code",
   "execution_count": 2,
   "metadata": {},
   "outputs": [
    {
     "name": "stdout",
     "output_type": "stream",
     "text": [
      "Hello, world!\n"
     ]
    }
   ],
   "source": [
    "import tkinter as tk\n",
    "\n",
    "def greet():\n",
    "    print(\"Hello, world!\")\n",
    "\n",
    "root = tk.Tk()\n",
    "root.title(\"My GUI App\")\n",
    "\n",
    "button = tk.Button(root, text=\"Click me\", command=greet)\n",
    "button.pack()\n",
    "\n",
    "root.mainloop()"
   ]
  },
  {
   "cell_type": "code",
   "execution_count": null,
   "metadata": {},
   "outputs": [],
   "source": [
    "import sys\n",
    "from PyQt5.QtWidgets import QApplication, QWidget, QLabel, QVBoxLayout, QPushButton\n",
    "\n",
    "class MyWindow(QWidget):\n",
    "    def __init__(self):\n",
    "        super().__init__()\n",
    "\n",
    "        # Set window title and size\n",
    "        self.setWindowTitle(\"My PyQt Window\")\n",
    "        self.setGeometry(100, 100, 300, 200)\n",
    "\n",
    "        # Create widgets\n",
    "        label = QLabel(\"Hello, world!\")\n",
    "        layout = QVBoxLayout()\n",
    "        layout.addWidget(label)\n",
    "\n",
    "        # Create and configure the Exit button\n",
    "        exit_button = QPushButton(\"Exit\")\n",
    "        exit_button.clicked.connect(self.handle_exit)  # Connect click event to exit function\n",
    "        layout.addWidget(exit_button)\n",
    "\n",
    "        # Set layout\n",
    "        self.setLayout(layout)\n",
    "\n",
    "    def handle_exit(self):\n",
    "        print(\"Exiting...\")\n",
    "        self.close()  # Close the window gracefully\n",
    "\n",
    "if __name__ == '__main__':\n",
    "    app = QApplication(sys.argv)\n",
    "    window = MyWindow()\n",
    "    window.show()\n",
    "    sys.exit(app.exec_())"
   ]
  },
  {
   "cell_type": "code",
   "execution_count": 1,
   "metadata": {},
   "outputs": [],
   "source": [
    "import wx\n",
    "\n",
    "class MyFrame(wx.Frame):\n",
    "    def __init__(self, parent):\n",
    "        super().__init__(parent)\n",
    "\n",
    "        # Create widgets\n",
    "        panel = wx.Panel(self)\n",
    "        label = wx.StaticText(panel, label=\"Hello, world!\")\n",
    "        button = wx.Button(panel, label=\"Click me\")\n",
    "\n",
    "        # Create sizer and add widgets\n",
    "        sizer = wx.BoxSizer(wx.VERTICAL)\n",
    "        sizer.Add(label, 0, wx.ALL, 10)\n",
    "        sizer.Add(button, 0, wx.ALL, 10)\n",
    "        panel.SetSizer(sizer)\n",
    "\n",
    "        # Bind event handler\n",
    "        button.Bind(wx.EVT_BUTTON, self.on_button_click)\n",
    "\n",
    "    def on_button_click(self, event):\n",
    "        wx.MessageBox(\"You clicked the button!\", \"Message\", wx.OK | wx.ICON_INFORMATION)\n",
    "\n",
    "class MyApp(wx.App):\n",
    "    def OnInit(self):\n",
    "        frame = MyFrame(None)\n",
    "        frame.Show(True)\n",
    "        return True\n",
    "\n",
    "if __name__ == '__main__':\n",
    "    app = MyApp()\n",
    "    app.MainLoop()"
   ]
  }
 ],
 "metadata": {
  "kernelspec": {
   "display_name": "Python 3",
   "language": "python",
   "name": "python3"
  },
  "language_info": {
   "codemirror_mode": {
    "name": "ipython",
    "version": 3
   },
   "file_extension": ".py",
   "mimetype": "text/x-python",
   "name": "python",
   "nbconvert_exporter": "python",
   "pygments_lexer": "ipython3",
   "version": "3.12.5"
  }
 },
 "nbformat": 4,
 "nbformat_minor": 2
}
