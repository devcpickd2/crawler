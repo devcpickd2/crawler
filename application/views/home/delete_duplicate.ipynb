{
 "cells": [
  {
   "cell_type": "code",
   "execution_count": 1,
   "metadata": {},
   "outputs": [
    {
     "name": "stderr",
     "output_type": "stream",
     "text": [
      "C:\\Users\\Administrator\\AppData\\Local\\Temp\\ipykernel_2108\\2324864678.py:16: UserWarning: pandas only supports SQLAlchemy connectable (engine/connection) or database string URI or sqlite3 DBAPI2 connection. Other DBAPI2 objects are not tested. Please consider using SQLAlchemy.\n",
      "  df = pd.read_sql(query, connection)\n"
     ]
    }
   ],
   "source": [
    "import mysql.connector\n",
    "import pandas as pd\n",
    "from mysql.connector import Error\n",
    "\n",
    "# Connect to your MySQL database\n",
    "try:\n",
    "    connection = mysql.connector.connect(\n",
    "        host='localhost',\n",
    "        database='ripple',\n",
    "        user='root',  # Replace with your MySQL username\n",
    "        password=''   # Replace with your MySQL password\n",
    "    )\n",
    "    \n",
    "    # Step 1: Retrieve data\n",
    "    query = \"SELECT * FROM youtube_data\"\n",
    "    df = pd.read_sql(query, connection)\n",
    "    \n",
    "    # Step 2: Remove duplicates within each video_id by 'text'\n",
    "    df_unique = df.drop_duplicates(subset=['video_id', 'text'])\n",
    "\n",
    "    # Step 3: Clear the table\n",
    "    cursor = connection.cursor()\n",
    "    cursor.execute(\"TRUNCATE TABLE youtube_data\")\n",
    "    \n",
    "    # Step 4: Reinsert the unique rows back into the database\n",
    "    for _, row in df_unique.iterrows():\n",
    "        insert_query = \"\"\"\n",
    "        INSERT INTO youtube_data (id, keyword, author, updated_at, like_count, text, video_id, title, public)\n",
    "        VALUES (%s, %s, %s, %s, %s, %s, %s, %s, %s)\n",
    "        \"\"\"\n",
    "        cursor.execute(insert_query, tuple(row))\n",
    "    \n",
    "    # Commit changes\n",
    "    connection.commit()\n",
    "    print(\"Data cleaned and reinserted successfully.\")\n",
    "\n",
    "except Error as e:\n",
    "    print(f\"Error: {e}\")\n",
    "\n",
    "finally:\n",
    "    if connection.is_connected():\n",
    "        cursor.close()\n",
    "        connection.close()\n"
   ]
  }
 ],
 "metadata": {
  "kernelspec": {
   "display_name": "Python 3",
   "language": "python",
   "name": "python3"
  },
  "language_info": {
   "codemirror_mode": {
    "name": "ipython",
    "version": 3
   },
   "file_extension": ".py",
   "mimetype": "text/x-python",
   "name": "python",
   "nbconvert_exporter": "python",
   "pygments_lexer": "ipython3",
   "version": "3.12.5"
  }
 },
 "nbformat": 4,
 "nbformat_minor": 2
}
